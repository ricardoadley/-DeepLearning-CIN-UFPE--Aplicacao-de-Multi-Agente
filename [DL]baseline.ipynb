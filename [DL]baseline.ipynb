{
  "nbformat": 4,
  "nbformat_minor": 0,
  "metadata": {
    "colab": {
      "provenance": []
    },
    "kernelspec": {
      "name": "python3",
      "display_name": "Python 3"
    },
    "language_info": {
      "name": "python"
    }
  },
  "cells": [
    {
      "cell_type": "code",
      "source": [
        "!pip install azure-ai-inference -qq"
      ],
      "metadata": {
        "colab": {
          "base_uri": "https://localhost:8080/"
        },
        "id": "-jRVyieAZ12k",
        "outputId": "c00a2ab6-09ad-4d37-c8e1-218d774e0793"
      },
      "execution_count": null,
      "outputs": [
        {
          "output_type": "stream",
          "name": "stdout",
          "text": [
            "\u001b[?25l   \u001b[90m━━━━━━━━━━━━━━━━━━━━━━━━━━━━━━━━━━━━━━━━\u001b[0m \u001b[32m0.0/92.5 kB\u001b[0m \u001b[31m?\u001b[0m eta \u001b[36m-:--:--\u001b[0m\r\u001b[2K   \u001b[90m━━━━━━━━━━━━━━━━━━━━━━━━━━━━━━━━━━━━━━━━\u001b[0m \u001b[32m92.5/92.5 kB\u001b[0m \u001b[31m3.6 MB/s\u001b[0m eta \u001b[36m0:00:00\u001b[0m\n",
            "\u001b[?25h\u001b[?25l   \u001b[90m━━━━━━━━━━━━━━━━━━━━━━━━━━━━━━━━━━━━━━━━\u001b[0m \u001b[32m0.0/198.9 kB\u001b[0m \u001b[31m?\u001b[0m eta \u001b[36m-:--:--\u001b[0m\r\u001b[2K   \u001b[90m━━━━━━━━━━━━━━━━━━━━━━━━━━━━━━━━━━━━━━━━\u001b[0m \u001b[32m198.9/198.9 kB\u001b[0m \u001b[31m6.4 MB/s\u001b[0m eta \u001b[36m0:00:00\u001b[0m\n",
            "\u001b[?25h"
          ]
        }
      ]
    },
    {
      "cell_type": "markdown",
      "source": [
        "# Baseline"
      ],
      "metadata": {
        "id": "tb8nDDB1ZKta"
      }
    },
    {
      "cell_type": "code",
      "source": [
        "!pip install pyautogen -qq"
      ],
      "metadata": {
        "colab": {
          "base_uri": "https://localhost:8080/"
        },
        "id": "CveIFmF1ZutX",
        "outputId": "c18e2ffa-9059-4ccb-9532-b92ae411594d"
      },
      "execution_count": null,
      "outputs": [
        {
          "output_type": "stream",
          "name": "stdout",
          "text": [
            "\u001b[?25l   \u001b[90m━━━━━━━━━━━━━━━━━━━━━━━━━━━━━━━━━━━━━━━━\u001b[0m \u001b[32m0.0/350.2 kB\u001b[0m \u001b[31m?\u001b[0m eta \u001b[36m-:--:--\u001b[0m\r\u001b[2K   \u001b[91m━━━━━━━━━━━━━━━━━━━━━━━━━━━━━━━━━━━━━━━\u001b[0m\u001b[91m╸\u001b[0m \u001b[32m348.2/350.2 kB\u001b[0m \u001b[31m13.6 MB/s\u001b[0m eta \u001b[36m0:00:01\u001b[0m\r\u001b[2K   \u001b[90m━━━━━━━━━━━━━━━━━━━━━━━━━━━━━━━━━━━━━━━━\u001b[0m \u001b[32m350.2/350.2 kB\u001b[0m \u001b[31m7.0 MB/s\u001b[0m eta \u001b[36m0:00:00\u001b[0m\n",
            "\u001b[?25h\u001b[?25l   \u001b[90m━━━━━━━━━━━━━━━━━━━━━━━━━━━━━━━━━━━━━━━━\u001b[0m \u001b[32m0.0/45.5 kB\u001b[0m \u001b[31m?\u001b[0m eta \u001b[36m-:--:--\u001b[0m\r\u001b[2K   \u001b[91m━━━━━━━━━━━━━━━━━━━━━━━━━━━━━━━━━━━\u001b[0m\u001b[91m╸\u001b[0m\u001b[90m━━━━\u001b[0m \u001b[32m41.0/45.5 kB\u001b[0m \u001b[31m86.0 MB/s\u001b[0m eta \u001b[36m0:00:01\u001b[0m\r\u001b[2K   \u001b[90m━━━━━━━━━━━━━━━━━━━━━━━━━━━━━━━━━━━━━━━━\u001b[0m \u001b[32m45.5/45.5 kB\u001b[0m \u001b[31m773.9 kB/s\u001b[0m eta \u001b[36m0:00:00\u001b[0m\n",
            "\u001b[2K   \u001b[90m━━━━━━━━━━━━━━━━━━━━━━━━━━━━━━━━━━━━━━━━\u001b[0m \u001b[32m147.8/147.8 kB\u001b[0m \u001b[31m6.5 MB/s\u001b[0m eta \u001b[36m0:00:00\u001b[0m\n",
            "\u001b[2K   \u001b[90m━━━━━━━━━━━━━━━━━━━━━━━━━━━━━━━━━━━━━━━━\u001b[0m \u001b[32m313.9/313.9 kB\u001b[0m \u001b[31m10.7 MB/s\u001b[0m eta \u001b[36m0:00:00\u001b[0m\n",
            "\u001b[2K   \u001b[90m━━━━━━━━━━━━━━━━━━━━━━━━━━━━━━━━━━━━━━━━\u001b[0m \u001b[32m1.2/1.2 MB\u001b[0m \u001b[31m21.9 MB/s\u001b[0m eta \u001b[36m0:00:00\u001b[0m\n",
            "\u001b[?25h"
          ]
        }
      ]
    },
    {
      "cell_type": "code",
      "source": [
        "import os\n",
        "\n",
        "import autogen\n",
        "from autogen.agentchat.contrib.math_user_proxy_agent import MathUserProxyAgent\n",
        "GIT_HUB_KEY = \"\"\n",
        "config_list = [\n",
        "    {\n",
        "        \"model\": \"gpt-4o\",\n",
        "        \"api_key\": GIT_HUB_KEY,\n",
        "        \"api_type\" : \"openai\",\n",
        "        \"base_url\": \"https://models.inference.ai.azure.com\",\n",
        "        \"max_tokens\": 2000,\n",
        "        \"temperature\": 0.01,\n",
        "    }\n",
        "]"
      ],
      "metadata": {
        "colab": {
          "base_uri": "https://localhost:8080/"
        },
        "id": "9-pgj7PKZMrr",
        "outputId": "377a60d2-01a2-4d21-8813-a86c38f9512d"
      },
      "execution_count": null,
      "outputs": [
        {
          "output_type": "stream",
          "name": "stderr",
          "text": [
            "/usr/local/lib/python3.10/dist-packages/dask/dataframe/__init__.py:42: FutureWarning: \n",
            "Dask dataframe query planning is disabled because dask-expr is not installed.\n",
            "\n",
            "You can install it with `pip install dask[dataframe]` or `conda install dask`.\n",
            "This will raise in a future version.\n",
            "\n",
            "  warnings.warn(msg, FutureWarning)\n"
          ]
        }
      ]
    },
    {
      "cell_type": "code",
      "source": [
        "\n",
        "assistant = autogen.AssistantAgent(\n",
        "    name=\"assistant\",\n",
        "    system_message=\"\"\"\n",
        "    Let's use python to solve a math problem\n",
        "    Query requirements:\n",
        "    You\tshould\talways\tuse\tthe\t'print'\tfunction\tfor\tthe\toutput\tand\tuse\tfractions/radical\n",
        "    forms\tinstead\tof\tdecimals.\n",
        "    You\tcan\tuse\tpackages\tlike\tsympy\tto\thelp\tyou.\n",
        "    You\tmust\tfollow\tthe\tformats\tbelow\tto\twrite\tyour\tcode:\n",
        "    ```python\n",
        "    First\tstate\tthe\tkey\tidea\tto\tsolve\tthe\tproblem.\tYou\tmay\tchoose\tfrom\tthree\tways\tto\tsolve\tthe\tproblem:\n",
        "    Case\t1:\tIf\tthe\tproblem\tcan\tbe\tsolved\twith\tPython\tcode\tdirectly,\tplease\twrite\ta\tprogram\tto\tsolve\tit.\tYou\tcan\n",
        "    enumerate\tall\tpossible\tarrangements\tif\tneeded.\n",
        "    Case\t2:\tIf\tthe\tproblem\tis\tmostly\treasoning,\tyou\tcan\tsolve\tit\tby\tyourself\tdirectly.\n",
        "    Case\t3:\tIf\tthe\tproblem\tcannot\tbe\thandled\tin\tthe\tabove\ttwo\tways,\tplease\tfollow\tthis\tprocess:\n",
        "    1.\tSolve\tthe\tproblem\tstep\tby\tstep\t(do\tnot\tover-divide\tthe\tsteps).\n",
        "    2.\tTake\tout\tany\tqueries\tthat\tcan\tbe\tasked\tthrough\tPython\t(for\texample,\tany\n",
        "    calculations\tor\tequations\tthat\tcan\tbe\tcalculated).\n",
        "    3.\tWait\tfor\tme\tto\tgive\tthe\tresults.\n",
        "    4.\tContinue\tif\tyou\tthink\tthe\tresult\tis\tcorrect.\tIf\tthe\tresult\tis\tinvalid\tor\tunexpected,\n",
        "    please\tcorrect\tyour\tquery\tor\treasoning.\n",
        "    After\tall\tthe\tqueries\tare\trun\tand\tyou\tget\tthe\tanswer,\tput\tthe\tanswer\tin\t\\boxed{}.\n",
        "    \"\"\",\n",
        "    llm_config={\n",
        "        \"timeout\": 600,\n",
        "        \"seed\": 42,\n",
        "        \"config_list\": config_list,\n",
        "    },\n",
        "    is_termination_msg=lambda msg: \"the final answer is:\" in msg[\"content\"].lower()\n",
        ")\n",
        "\n",
        "user_proxy_agent = autogen.UserProxyAgent(\n",
        "    name=\"user_proxy_agent\",\n",
        "    human_input_mode=\"NEVER\",\n",
        "    system_message=\"You are a helpfull assistant\",\n",
        "    is_termination_msg=lambda msg: (\n",
        "    isinstance(msg.get(\"content\"), str) and (\n",
        "        \"the final answer is:\" in msg[\"content\"].lower() or\n",
        "        \"the solution to the\" in msg[\"content\"].lower()\n",
        "    )\n",
        "),\n",
        "    llm_config={\n",
        "        \"timeout\": 600,\n",
        "        \"seed\": 42,\n",
        "        \"config_list\": config_list,\n",
        "    },\n",
        ")\n",
        "\n"
      ],
      "metadata": {
        "id": "UrizZBteZhal"
      },
      "execution_count": null,
      "outputs": []
    },
    {
      "cell_type": "code",
      "source": [
        "user_proxy_agent.initiate_chat(\n",
        "    assistant,\n",
        "    message=\"Find all $x$ that satisfy the inequality $(2x+10)(x+3)<(3x+9)(x+8)$. Express your answer in interval notation.\",\n",
        "    #max_consecutive_auto_reply=30,\n",
        "    )"
      ],
      "metadata": {
        "colab": {
          "base_uri": "https://localhost:8080/"
        },
        "id": "SByEffMvkGin",
        "outputId": "b5e534d4-3199-4fc3-c3bc-ddb6a5c11af5"
      },
      "execution_count": null,
      "outputs": [
        {
          "output_type": "stream",
          "name": "stdout",
          "text": [
            "user_proxy_agent (to assistant):\n",
            "\n",
            "Find all $x$ that satisfy the inequality $(2x+10)(x+3)<(3x+9)(x+8)$. Express your answer in interval notation.\n",
            "\n",
            "--------------------------------------------------------------------------------\n",
            "assistant (to user_proxy_agent):\n",
            "\n",
            "To solve the inequality \\((2x+10)(x+3)<(3x+9)(x+8)\\), we will follow these steps:\n",
            "\n",
            "1. Expand both sides of the inequality.\n",
            "2. Simplify the inequality to a standard form.\n",
            "3. Solve the resulting inequality.\n",
            "4. Express the solution in interval notation.\n",
            "\n",
            "Let's proceed with these steps:\n",
            "\n",
            "```python\n",
            "from sympy import symbols, expand, solve, simplify\n",
            "\n",
            "# Define the variable\n",
            "x = symbols('x')\n",
            "\n",
            "# Define the expressions\n",
            "left_expr = (2*x + 10)*(x + 3)\n",
            "right_expr = (3*x + 9)*(x + 8)\n",
            "\n",
            "# Expand both sides\n",
            "left_expanded = expand(left_expr)\n",
            "right_expanded = expand(right_expr)\n",
            "\n",
            "# Simplify the inequality\n",
            "inequality = simplify(left_expanded - right_expanded)\n",
            "\n",
            "# Solve the inequality\n",
            "solution = solve(inequality < 0, x)\n",
            "\n",
            "# Print the solution in interval notation\n",
            "print(solution)\n",
            "```\n",
            "\n",
            "Let's execute this code to find the solution.\n",
            "\n",
            "--------------------------------------------------------------------------------\n",
            "\n",
            ">>>>>>>> EXECUTING CODE BLOCK 0 (inferred language is python)...\n",
            "user_proxy_agent (to assistant):\n",
            "\n",
            "exitcode: 0 (execution succeeded)\n",
            "Code output: \n",
            "((-oo < x) & (x < -14)) | ((-3 < x) & (x < oo))\n",
            "\n",
            "\n",
            "--------------------------------------------------------------------------------\n",
            "assistant (to user_proxy_agent):\n",
            "\n",
            "The solution to the inequality \\((2x+10)(x+3)<(3x+9)(x+8)\\) is expressed in interval notation as:\n",
            "\n",
            "\\[\n",
            "(-\\infty, -14) \\cup (-3, \\infty)\n",
            "\\]\n",
            "\n",
            "This means \\(x\\) is in the interval \\((- \\infty, -14)\\) or \\((-3, \\infty)\\).\n",
            "\n",
            "--------------------------------------------------------------------------------\n"
          ]
        },
        {
          "output_type": "execute_result",
          "data": {
            "text/plain": [
              "ChatResult(chat_id=None, chat_history=[{'content': 'Find all $x$ that satisfy the inequality $(2x+10)(x+3)<(3x+9)(x+8)$. Express your answer in interval notation.', 'role': 'assistant', 'name': 'user_proxy_agent'}, {'content': \"To solve the inequality \\\\((2x+10)(x+3)<(3x+9)(x+8)\\\\), we will follow these steps:\\n\\n1. Expand both sides of the inequality.\\n2. Simplify the inequality to a standard form.\\n3. Solve the resulting inequality.\\n4. Express the solution in interval notation.\\n\\nLet's proceed with these steps:\\n\\n```python\\nfrom sympy import symbols, expand, solve, simplify\\n\\n# Define the variable\\nx = symbols('x')\\n\\n# Define the expressions\\nleft_expr = (2*x + 10)*(x + 3)\\nright_expr = (3*x + 9)*(x + 8)\\n\\n# Expand both sides\\nleft_expanded = expand(left_expr)\\nright_expanded = expand(right_expr)\\n\\n# Simplify the inequality\\ninequality = simplify(left_expanded - right_expanded)\\n\\n# Solve the inequality\\nsolution = solve(inequality < 0, x)\\n\\n# Print the solution in interval notation\\nprint(solution)\\n```\\n\\nLet's execute this code to find the solution.\", 'role': 'user', 'name': 'assistant'}, {'content': 'exitcode: 0 (execution succeeded)\\nCode output: \\n((-oo < x) & (x < -14)) | ((-3 < x) & (x < oo))\\n', 'role': 'assistant', 'name': 'user_proxy_agent'}, {'content': 'The solution to the inequality \\\\((2x+10)(x+3)<(3x+9)(x+8)\\\\) is expressed in interval notation as:\\n\\n\\\\[\\n(-\\\\infty, -14) \\\\cup (-3, \\\\infty)\\n\\\\]\\n\\nThis means \\\\(x\\\\) is in the interval \\\\((- \\\\infty, -14)\\\\) or \\\\((-3, \\\\infty)\\\\).', 'role': 'user', 'name': 'assistant'}], summary='The solution to the inequality \\\\((2x+10)(x+3)<(3x+9)(x+8)\\\\) is expressed in interval notation as:\\n\\n\\\\[\\n(-\\\\infty, -14) \\\\cup (-3, \\\\infty)\\n\\\\]\\n\\nThis means \\\\(x\\\\) is in the interval \\\\((- \\\\infty, -14)\\\\) or \\\\((-3, \\\\infty)\\\\).', cost={'usage_including_cached_inference': {'total_cost': 0.005755, 'gpt-4o-2024-08-06': {'cost': 0.005755, 'prompt_tokens': 1110, 'completion_tokens': 298, 'total_tokens': 1408}}, 'usage_excluding_cached_inference': {'total_cost': 0.005755, 'gpt-4o-2024-08-06': {'cost': 0.005755, 'prompt_tokens': 1110, 'completion_tokens': 298, 'total_tokens': 1408}}}, human_input=[])"
            ]
          },
          "metadata": {},
          "execution_count": 5
        }
      ]
    },
    {
      "cell_type": "markdown",
      "source": [
        "# Uso do MathChat"
      ],
      "metadata": {
        "id": "UjzPeIKHuLwL"
      }
    },
    {
      "cell_type": "code",
      "source": [
        "assistant = autogen.AssistantAgent(\n",
        "    name=\"assistant\",\n",
        "    system_message=\"\"\"You are a helpfull assistant\"\"\",\n",
        "    llm_config={\n",
        "        \"timeout\": 600,\n",
        "        \"seed\": 42,\n",
        "        \"config_list\": config_list,\n",
        "    }\n",
        ")\n",
        "mathproxyagent = MathUserProxyAgent(\n",
        "    name=\"mathproxyagent\",\n",
        "    human_input_mode=\"NEVER\",\n",
        "    code_execution_config={\"use_docker\": False},\n",
        ")\n",
        "\n",
        "math_problem = (\n",
        "    \"Find all $x$ that satisfy the inequality $(2x+10)(x+3)<(3x+9)(x+8)$. Express your answer in interval notation.\"\n",
        ")\n",
        "\n",
        "mathproxyagent.initiate_chat(assistant, message=mathproxyagent.message_generator, problem=math_problem)"
      ],
      "metadata": {
        "id": "-dr-X-70Zj3_",
        "colab": {
          "base_uri": "https://localhost:8080/"
        },
        "outputId": "8df50e64-bba3-4caf-f6e3-977c6232471b"
      },
      "execution_count": null,
      "outputs": [
        {
          "output_type": "stream",
          "name": "stdout",
          "text": [
            "mathproxyagent (to assistant):\n",
            "\n",
            "Let's use Python to solve a math problem.\n",
            "\n",
            "Query requirements:\n",
            "You should always use the 'print' function for the output and use fractions/radical forms instead of decimals.\n",
            "You can use packages like sympy to help you.\n",
            "You must follow the formats below to write your code:\n",
            "```python\n",
            "# your code\n",
            "```\n",
            "\n",
            "First state the key idea to solve the problem. You may choose from three ways to solve the problem:\n",
            "Case 1: If the problem can be solved with Python code directly, please write a program to solve it. You can enumerate all possible arrangements if needed.\n",
            "Case 2: If the problem is mostly reasoning, you can solve it by yourself directly.\n",
            "Case 3: If the problem cannot be handled in the above two ways, please follow this process:\n",
            "1. Solve the problem step by step (do not over-divide the steps).\n",
            "2. Take out any queries that can be asked through Python (for example, any calculations or equations that can be calculated).\n",
            "3. Wait for me to give the results.\n",
            "4. Continue if you think the result is correct. If the result is invalid or unexpected, please correct your query or reasoning.\n",
            "\n",
            "After all the queries are run and you get the answer, put the answer in \\boxed{}.\n",
            "\n",
            "Problem:\n",
            "Find all $x$ that satisfy the inequality $(2x+10)(x+3)<(3x+9)(x+8)$. Express your answer in interval notation.\n",
            "\n",
            "--------------------------------------------------------------------------------\n",
            "assistant (to mathproxyagent):\n",
            "\n",
            "To solve the inequality \\((2x+10)(x+3)<(3x+9)(x+8)\\), we can follow these steps:\n",
            "\n",
            "### Key Idea\n",
            "We will expand both sides of the inequality, simplify it to a standard quadratic inequality form, and then solve it using Python to find the intervals where the inequality holds.\n",
            "\n",
            "### Steps\n",
            "1. Expand both sides of the inequality.\n",
            "2. Move all terms to one side to form a quadratic inequality.\n",
            "3. Solve the quadratic inequality to find the critical points.\n",
            "4. Determine the intervals where the inequality holds.\n",
            "\n",
            "Let's proceed with these steps using Python:\n",
            "\n",
            "```python\n",
            "from sympy import symbols, expand, solve, simplify\n",
            "\n",
            "# Define the variable\n",
            "x = symbols('x')\n",
            "\n",
            "# Define the expressions\n",
            "left_expr = (2*x + 10)*(x + 3)\n",
            "right_expr = (3*x + 9)*(x + 8)\n",
            "\n",
            "# Expand both expressions\n",
            "left_expanded = expand(left_expr)\n",
            "right_expanded = expand(right_expr)\n",
            "\n",
            "# Form the inequality\n",
            "inequality = simplify(left_expanded - right_expanded)\n",
            "\n",
            "# Solve the inequality\n",
            "solution = solve(inequality < 0, x)\n",
            "\n",
            "# Print the solution in interval notation\n",
            "print(solution)\n",
            "```\n",
            "\n",
            "This code will give us the intervals where the inequality \\((2x+10)(x+3)<(3x+9)(x+8)\\) holds. Let's execute this code to find the solution.\n",
            "\n",
            "--------------------------------------------------------------------------------\n",
            "mathproxyagent (to assistant):\n",
            "\n",
            "((-oo < x) & (x < -14)) | ((-3 < x) & (x < oo))\n",
            "\n",
            "--------------------------------------------------------------------------------\n",
            "assistant (to mathproxyagent):\n",
            "\n",
            "The solution to the inequality \\((2x+10)(x+3)<(3x+9)(x+8)\\) is given by the intervals:\n",
            "\n",
            "\\[\n",
            "x \\in (-\\infty, -14) \\cup (-3, \\infty)\n",
            "\\]\n",
            "\n",
            "This means that the inequality holds for all \\(x\\) in the interval \\((- \\infty, -14)\\) and \\((-3, \\infty)\\). Thus, the solution in interval notation is:\n",
            "\n",
            "\\[\n",
            "\\boxed{(-\\infty, -14) \\cup (-3, \\infty)}\n",
            "\\]\n",
            "\n",
            "--------------------------------------------------------------------------------\n"
          ]
        },
        {
          "output_type": "execute_result",
          "data": {
            "text/plain": [
              "ChatResult(chat_id=None, chat_history=[{'content': \"Let's use Python to solve a math problem.\\n\\nQuery requirements:\\nYou should always use the 'print' function for the output and use fractions/radical forms instead of decimals.\\nYou can use packages like sympy to help you.\\nYou must follow the formats below to write your code:\\n```python\\n# your code\\n```\\n\\nFirst state the key idea to solve the problem. You may choose from three ways to solve the problem:\\nCase 1: If the problem can be solved with Python code directly, please write a program to solve it. You can enumerate all possible arrangements if needed.\\nCase 2: If the problem is mostly reasoning, you can solve it by yourself directly.\\nCase 3: If the problem cannot be handled in the above two ways, please follow this process:\\n1. Solve the problem step by step (do not over-divide the steps).\\n2. Take out any queries that can be asked through Python (for example, any calculations or equations that can be calculated).\\n3. Wait for me to give the results.\\n4. Continue if you think the result is correct. If the result is invalid or unexpected, please correct your query or reasoning.\\n\\nAfter all the queries are run and you get the answer, put the answer in \\\\boxed{}.\\n\\nProblem:\\nFind all $x$ that satisfy the inequality $(2x+10)(x+3)<(3x+9)(x+8)$. Express your answer in interval notation.\", 'role': 'assistant', 'name': 'mathproxyagent'}, {'content': \"To solve the inequality \\\\((2x+10)(x+3)<(3x+9)(x+8)\\\\), we can follow these steps:\\n\\n### Key Idea\\nWe will expand both sides of the inequality, simplify it to a standard quadratic inequality form, and then solve it using Python to find the intervals where the inequality holds.\\n\\n### Steps\\n1. Expand both sides of the inequality.\\n2. Move all terms to one side to form a quadratic inequality.\\n3. Solve the quadratic inequality to find the critical points.\\n4. Determine the intervals where the inequality holds.\\n\\nLet's proceed with these steps using Python:\\n\\n```python\\nfrom sympy import symbols, expand, solve, simplify\\n\\n# Define the variable\\nx = symbols('x')\\n\\n# Define the expressions\\nleft_expr = (2*x + 10)*(x + 3)\\nright_expr = (3*x + 9)*(x + 8)\\n\\n# Expand both expressions\\nleft_expanded = expand(left_expr)\\nright_expanded = expand(right_expr)\\n\\n# Form the inequality\\ninequality = simplify(left_expanded - right_expanded)\\n\\n# Solve the inequality\\nsolution = solve(inequality < 0, x)\\n\\n# Print the solution in interval notation\\nprint(solution)\\n```\\n\\nThis code will give us the intervals where the inequality \\\\((2x+10)(x+3)<(3x+9)(x+8)\\\\) holds. Let's execute this code to find the solution.\", 'role': 'user', 'name': 'assistant'}, {'content': '((-oo < x) & (x < -14)) | ((-3 < x) & (x < oo))', 'role': 'assistant', 'name': 'mathproxyagent'}, {'content': 'The solution to the inequality \\\\((2x+10)(x+3)<(3x+9)(x+8)\\\\) is given by the intervals:\\n\\n\\\\[\\nx \\\\in (-\\\\infty, -14) \\\\cup (-3, \\\\infty)\\n\\\\]\\n\\nThis means that the inequality holds for all \\\\(x\\\\) in the interval \\\\((- \\\\infty, -14)\\\\) and \\\\((-3, \\\\infty)\\\\). Thus, the solution in interval notation is:\\n\\n\\\\[\\n\\\\boxed{(-\\\\infty, -14) \\\\cup (-3, \\\\infty)}\\n\\\\]', 'role': 'user', 'name': 'assistant'}], summary='The solution to the inequality \\\\((2x+10)(x+3)<(3x+9)(x+8)\\\\) is given by the intervals:\\n\\n\\\\[\\nx \\\\in (-\\\\infty, -14) \\\\cup (-3, \\\\infty)\\n\\\\]\\n\\nThis means that the inequality holds for all \\\\(x\\\\) in the interval \\\\((- \\\\infty, -14)\\\\) and \\\\((-3, \\\\infty)\\\\). Thus, the solution in interval notation is:\\n\\n\\\\[\\n\\\\boxed{(-\\\\infty, -14) \\\\cup (-3, \\\\infty)}\\n\\\\]', cost={'usage_including_cached_inference': {'total_cost': 0.006645, 'gpt-4o-2024-08-06': {'cost': 0.006645, 'prompt_tokens': 970, 'completion_tokens': 422, 'total_tokens': 1392}}, 'usage_excluding_cached_inference': {'total_cost': 0.006645, 'gpt-4o-2024-08-06': {'cost': 0.006645, 'prompt_tokens': 970, 'completion_tokens': 422, 'total_tokens': 1392}}}, human_input=[])"
            ]
          },
          "metadata": {},
          "execution_count": 6
        }
      ]
    },
    {
      "cell_type": "markdown",
      "source": [
        "# Reprodução com LLama 3.1"
      ],
      "metadata": {
        "id": "YOq2E6SWBqpu"
      }
    },
    {
      "cell_type": "code",
      "source": [
        "config_list = [\n",
        "    {\n",
        "        \"model\": \"Meta-Llama-3.1-405B-Instruct\",\n",
        "        \"api_key\": GIT_HUB_KEY,\n",
        "        \"api_type\" : \"openai\",\n",
        "        \"base_url\": \"https://models.inference.ai.azure.com\",\n",
        "        \"max_tokens\": 2000,\n",
        "        \"temperature\": 0.01,\n",
        "        \"stop\": \"<|eot_id|>\", #this is required to keep llama under control.\n",
        "    }\n",
        "]"
      ],
      "metadata": {
        "id": "90s90R5gBtyN"
      },
      "execution_count": null,
      "outputs": []
    },
    {
      "cell_type": "code",
      "source": [
        "assistant = autogen.AssistantAgent(\n",
        "    name=\"assistant\",\n",
        "    system_message=\"\"\"\n",
        "    Let's use python to solve a math problem\n",
        "    Query requirements:\n",
        "    You\tshould\talways\tuse\tthe\t'print'\tfunction\tfor\tthe\toutput\tand\tuse\tfractions/radical\n",
        "    forms\tinstead\tof\tdecimals.\n",
        "    You\tcan\tuse\tpackages\tlike\tsympy\tto\thelp\tyou.\n",
        "    You\tmust\tfollow\tthe\tformats\tbelow\tto\twrite\tyour\tcode:\n",
        "    ```python\n",
        "    First\tstate\tthe\tkey\tidea\tto\tsolve\tthe\tproblem.\tYou\tmay\tchoose\tfrom\tthree\tways\tto\tsolve\tthe\tproblem:\n",
        "    Case\t1:\tIf\tthe\tproblem\tcan\tbe\tsolved\twith\tPython\tcode\tdirectly,\tplease\twrite\ta\tprogram\tto\tsolve\tit.\tYou\tcan\n",
        "    enumerate\tall\tpossible\tarrangements\tif\tneeded.\n",
        "    Case\t2:\tIf\tthe\tproblem\tis\tmostly\treasoning,\tyou\tcan\tsolve\tit\tby\tyourself\tdirectly.\n",
        "    Case\t3:\tIf\tthe\tproblem\tcannot\tbe\thandled\tin\tthe\tabove\ttwo\tways,\tplease\tfollow\tthis\tprocess:\n",
        "    1.\tSolve\tthe\tproblem\tstep\tby\tstep\t(do\tnot\tover-divide\tthe\tsteps).\n",
        "    2.\tTake\tout\tany\tqueries\tthat\tcan\tbe\tasked\tthrough\tPython\t(for\texample,\tany\n",
        "    calculations\tor\tequations\tthat\tcan\tbe\tcalculated).\n",
        "    3.\tWait\tfor\tme\tto\tgive\tthe\tresults.\n",
        "    4.\tContinue\tif\tyou\tthink\tthe\tresult\tis\tcorrect.\tIf\tthe\tresult\tis\tinvalid\tor\tunexpected,\n",
        "    please\tcorrect\tyour\tquery\tor\treasoning.\n",
        "    After\tall\tthe\tqueries\tare\trun\tand\tyou\tget\tthe\tanswer,\tput\tthe\tanswer\tin\t\\boxed{}.\n",
        "    \"\"\",\n",
        "    llm_config={\n",
        "        \"timeout\": 600,\n",
        "        \"seed\": 42,\n",
        "        \"config_list\": config_list,\n",
        "    },\n",
        "    is_termination_msg=lambda msg: \"the final answer is:\" in msg[\"content\"].lower()\n",
        ")\n",
        "\n",
        "user_proxy_agent = autogen.UserProxyAgent(\n",
        "    name=\"user_proxy_agent\",\n",
        "    human_input_mode=\"NEVER\",\n",
        "    system_message=\"You are a helpfull assistant\",\n",
        "    is_termination_msg=lambda msg: (\n",
        "    isinstance(msg.get(\"content\"), str) and (\n",
        "        \"the final answer is:\" in msg[\"content\"].lower() or\n",
        "        \"the solution to the\" in msg[\"content\"].lower()\n",
        "    )\n",
        "),\n",
        "    llm_config={\n",
        "        \"timeout\": 600,\n",
        "        \"seed\": 42,\n",
        "        \"config_list\": config_list,\n",
        "    },\n",
        ")\n",
        "\n"
      ],
      "metadata": {
        "id": "XtE2TD5VB4cS"
      },
      "execution_count": null,
      "outputs": []
    },
    {
      "cell_type": "code",
      "source": [
        "user_proxy_agent.initiate_chat(\n",
        "    assistant,\n",
        "    message=\"Find all $x$ that satisfy the inequality $(2x+10)(x+3)<(3x+9)(x+8)$. Express your answer in interval notation.\",\n",
        "    #max_consecutive_auto_reply=30,\n",
        "    )"
      ],
      "metadata": {
        "colab": {
          "base_uri": "https://localhost:8080/"
        },
        "id": "BQb2v5Q7B5Au",
        "outputId": "3af79e08-222b-42a0-8340-3a8ca8f50fe9"
      },
      "execution_count": null,
      "outputs": [
        {
          "output_type": "stream",
          "name": "stdout",
          "text": [
            "user_proxy_agent (to assistant):\n",
            "\n",
            "Find all $x$ that satisfy the inequality $(2x+10)(x+3)<(3x+9)(x+8)$. Express your answer in interval notation.\n",
            "\n",
            "--------------------------------------------------------------------------------\n",
            "[autogen.oai.client: 11-11 21:02:37] {409} WARNING - Model Meta-Llama-3-405B-Instruct is not found. The cost will be 0. In your config_list, add field {\"price\" : [prompt_price_per_1k, completion_token_price_per_1k]} for customized pricing.\n"
          ]
        },
        {
          "output_type": "stream",
          "name": "stderr",
          "text": [
            "WARNING:autogen.oai.client:Model Meta-Llama-3-405B-Instruct is not found. The cost will be 0. In your config_list, add field {\"price\" : [prompt_price_per_1k, completion_token_price_per_1k]} for customized pricing.\n"
          ]
        },
        {
          "output_type": "stream",
          "name": "stdout",
          "text": [
            "assistant (to user_proxy_agent):\n",
            "\n",
            "## Step 1: Expand the inequality\n",
            "To solve the inequality, we first need to expand both sides of the inequality.\n",
            "\n",
            "## Step 2: Write the inequality in the expanded form\n",
            "The inequality can be written as $2x^2 + 16x + 30 < 3x^2 + 33x + 72$.\n",
            "\n",
            "## Step 3: Rearrange the inequality\n",
            "Now, we can rearrange the inequality to get $0 < x^2 + 17x + 42$.\n",
            "\n",
            "## Step 4: Factor the quadratic expression\n",
            "The quadratic expression can be factored as $0 < (x + 14)(x + 3)$.\n",
            "\n",
            "## Step 5: Solve the inequality\n",
            "To solve the inequality, we need to find the values of $x$ that make the expression $(x + 14)(x + 3)$ positive.\n",
            "\n",
            "## Step 6: Write the solution in interval notation\n",
            "We can use Python to determine the intervals where the expression is positive.\n",
            "\n",
            "```python\n",
            "import sympy as sp\n",
            "\n",
            "# Define the variable\n",
            "x = sp.symbols('x')\n",
            "\n",
            "# Define the inequality\n",
            "inequality = (x + 14)*(x + 3) > 0\n",
            "\n",
            "# Solve the inequality\n",
            "solution = sp.solve(inequality, x)\n",
            "\n",
            "print(solution)\n",
            "```\n",
            "\n",
            "The final answer is: $\\boxed{(-\\infty, -14) \\cup (-3, \\infty)}$\n",
            "\n",
            "--------------------------------------------------------------------------------\n"
          ]
        },
        {
          "output_type": "execute_result",
          "data": {
            "text/plain": [
              "ChatResult(chat_id=None, chat_history=[{'content': 'Find all $x$ that satisfy the inequality $(2x+10)(x+3)<(3x+9)(x+8)$. Express your answer in interval notation.', 'role': 'assistant', 'name': 'user_proxy_agent'}, {'content': \"## Step 1: Expand the inequality\\nTo solve the inequality, we first need to expand both sides of the inequality.\\n\\n## Step 2: Write the inequality in the expanded form\\nThe inequality can be written as $2x^2 + 16x + 30 < 3x^2 + 33x + 72$.\\n\\n## Step 3: Rearrange the inequality\\nNow, we can rearrange the inequality to get $0 < x^2 + 17x + 42$.\\n\\n## Step 4: Factor the quadratic expression\\nThe quadratic expression can be factored as $0 < (x + 14)(x + 3)$.\\n\\n## Step 5: Solve the inequality\\nTo solve the inequality, we need to find the values of $x$ that make the expression $(x + 14)(x + 3)$ positive.\\n\\n## Step 6: Write the solution in interval notation\\nWe can use Python to determine the intervals where the expression is positive.\\n\\n```python\\nimport sympy as sp\\n\\n# Define the variable\\nx = sp.symbols('x')\\n\\n# Define the inequality\\ninequality = (x + 14)*(x + 3) > 0\\n\\n# Solve the inequality\\nsolution = sp.solve(inequality, x)\\n\\nprint(solution)\\n```\\n\\nThe final answer is: $\\\\boxed{(-\\\\infty, -14) \\\\cup (-3, \\\\infty)}$\", 'role': 'user', 'name': 'assistant'}], summary=\"## Step 1: Expand the inequality\\nTo solve the inequality, we first need to expand both sides of the inequality.\\n\\n## Step 2: Write the inequality in the expanded form\\nThe inequality can be written as $2x^2 + 16x + 30 < 3x^2 + 33x + 72$.\\n\\n## Step 3: Rearrange the inequality\\nNow, we can rearrange the inequality to get $0 < x^2 + 17x + 42$.\\n\\n## Step 4: Factor the quadratic expression\\nThe quadratic expression can be factored as $0 < (x + 14)(x + 3)$.\\n\\n## Step 5: Solve the inequality\\nTo solve the inequality, we need to find the values of $x$ that make the expression $(x + 14)(x + 3)$ positive.\\n\\n## Step 6: Write the solution in interval notation\\nWe can use Python to determine the intervals where the expression is positive.\\n\\n```python\\nimport sympy as sp\\n\\n# Define the variable\\nx = sp.symbols('x')\\n\\n# Define the inequality\\ninequality = (x + 14)*(x + 3) > 0\\n\\n# Solve the inequality\\nsolution = sp.solve(inequality, x)\\n\\nprint(solution)\\n```\\n\\nThe final answer is: $\\\\boxed{(-\\\\infty, -14) \\\\cup (-3, \\\\infty)}$\", cost={'usage_including_cached_inference': {'total_cost': 0, 'Meta-Llama-3-405B-Instruct': {'cost': 0, 'prompt_tokens': 445, 'completion_tokens': 297, 'total_tokens': 742}}, 'usage_excluding_cached_inference': {'total_cost': 0, 'Meta-Llama-3-405B-Instruct': {'cost': 0, 'prompt_tokens': 445, 'completion_tokens': 297, 'total_tokens': 742}}}, human_input=[])"
            ]
          },
          "metadata": {},
          "execution_count": 9
        }
      ]
    }
  ]
}